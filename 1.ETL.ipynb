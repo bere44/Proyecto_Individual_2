{
 "cells": [
  {
   "cell_type": "markdown",
   "metadata": {},
   "source": [
    "1.1 Extraccion"
   ]
  },
  {
   "cell_type": "code",
   "execution_count": 2,
   "metadata": {},
   "outputs": [],
   "source": [
    "# Carga de librerías\n",
    "import pandas as pd\n",
    "import numpy as np\n",
    "import matplotlib.pyplot as plt\n",
    "import seaborn as sns"
   ]
  },
  {
   "cell_type": "code",
   "execution_count": 3,
   "metadata": {},
   "outputs": [],
   "source": [
    "#cargar los archivos que se van a usar\n",
    "df_homicidios = pd.read_excel('./datasets/homicidios.xlsx',sheet_name = 'HECHOS',na_values=['SD', 'sd'])\n",
    "df_vic_hom    = pd.read_excel('./datasets/homicidios.xlsx',sheet_name = 'VICTIMAS',na_values=['SD', 'sd'])\n",
    "df_lesiones   = pd.read_excel('./datasets/lesiones.xlsx' , sheet_name = 'HECHOS',na_values=['SD', 'sd'])\n",
    "df_vic_les    = pd.read_excel('./datasets/lesiones.xlsx' , sheet_name = 'VICTIMAS',na_values=['SD', 'sd'])"
   ]
  },
  {
   "cell_type": "markdown",
   "metadata": {},
   "source": [
    "1.2 Transformaciones"
   ]
  },
  {
   "cell_type": "markdown",
   "metadata": {},
   "source": [
    "1.2.1 Homicidios - hechos"
   ]
  },
  {
   "cell_type": "code",
   "execution_count": 4,
   "metadata": {},
   "outputs": [],
   "source": [
    "#quitar las columnas que no se van a usar\n",
    "df_homicidios.drop(columns=['AAAA', 'MM', 'DD', 'HORA', 'LUGAR_DEL_HECHO', 'Calle', \n",
    "                            'Altura', 'Cruce', 'Dirección Normalizada', 'PARTICIPANTES','VICTIMA'], inplace=True)"
   ]
  },
  {
   "cell_type": "code",
   "execution_count": 5,
   "metadata": {},
   "outputs": [
    {
     "name": "stdout",
     "output_type": "stream",
     "text": [
      "<class 'pandas.core.frame.DataFrame'>\n",
      "RangeIndex: 696 entries, 0 to 695\n",
      "Data columns (total 10 columns):\n",
      " #   Column         Non-Null Count  Dtype         \n",
      "---  ------         --------------  -----         \n",
      " 0   ID             696 non-null    object        \n",
      " 1   N_VICTIMAS     696 non-null    int64         \n",
      " 2   FECHA          696 non-null    datetime64[ns]\n",
      " 3   HH             695 non-null    float64       \n",
      " 4   TIPO_DE_CALLE  696 non-null    object        \n",
      " 5   COMUNA         696 non-null    int64         \n",
      " 6   XY (CABA)      696 non-null    object        \n",
      " 7   pos x          696 non-null    object        \n",
      " 8   pos y          696 non-null    object        \n",
      " 9   ACUSADO        673 non-null    object        \n",
      "dtypes: datetime64[ns](1), float64(1), int64(2), object(6)\n",
      "memory usage: 54.5+ KB\n"
     ]
    }
   ],
   "source": [
    "df_homicidios.info()"
   ]
  },
  {
   "cell_type": "code",
   "execution_count": 6,
   "metadata": {},
   "outputs": [
    {
     "data": {
      "text/plain": [
       "ID                0\n",
       "N_VICTIMAS        0\n",
       "FECHA             0\n",
       "HH                1\n",
       "TIPO_DE_CALLE     0\n",
       "COMUNA            0\n",
       "XY (CABA)         0\n",
       "pos x             0\n",
       "pos y             0\n",
       "ACUSADO          23\n",
       "dtype: int64"
      ]
     },
     "execution_count": 6,
     "metadata": {},
     "output_type": "execute_result"
    }
   ],
   "source": [
    "# Cantidad de valores nulos\n",
    "df_homicidios.isnull().sum()"
   ]
  },
  {
   "cell_type": "code",
   "execution_count": 7,
   "metadata": {},
   "outputs": [],
   "source": [
    "# remplazar la comuna 0 a nulos\n",
    "df_homicidios.loc[df_homicidios['COMUNA'] == '0' ,'COMUNA'] = np.nan\n",
    "\n",
    "\n",
    "# remplazar los \".\" por nulos en latitud y longitud\n",
    "df_homicidios.loc[df_homicidios['pos x'] == '.' ,'pos x'] = np.nan\n",
    "df_homicidios.loc[df_homicidios['pos y'] == '.' ,'pos y'] = np.nan\n",
    "df_homicidios.loc[df_homicidios['XY (CABA)'] == 'Point (. .)' ,'XY (CABA)'] = np.nan\n"
   ]
  },
  {
   "cell_type": "code",
   "execution_count": 8,
   "metadata": {},
   "outputs": [],
   "source": [
    "# cambio a formato categórico\n",
    "df_homicidios['HH'] = df_homicidios['HH'].astype('category')\n",
    "df_homicidios['TIPO_DE_CALLE'] = df_homicidios['TIPO_DE_CALLE'].astype('category')\n",
    "df_homicidios['COMUNA'] = df_homicidios['COMUNA'].astype('category')\n",
    "df_homicidios['ACUSADO'] = df_homicidios['ACUSADO'].astype('category')\n",
    "\n",
    "# cambio a float los valores de latitud y longitud\n",
    "\n",
    "df_homicidios['pos x'] = df_homicidios['pos x'].astype('float')\n",
    "df_homicidios['pos y'] = df_homicidios['pos y'].astype('float')\n",
    "\n",
    "\n"
   ]
  },
  {
   "cell_type": "code",
   "execution_count": 9,
   "metadata": {},
   "outputs": [],
   "source": [
    "#renombrar las columnas\n",
    "nuevos_nombres = {'ID': 'ID_HECHO','pos x':'LONGITUD','pos y':'LATITUD',\n",
    "                  'HH':'HORA','ACUSADO':'VEHICULO_ACUSADO',\n",
    "                  'Rango_etario ':'RANGO_ETARIO'}\n",
    "                 \n",
    "# Remplazar nombres\n",
    "df_homicidios = df_homicidios.rename(columns=nuevos_nombres)\n",
    "\n",
    "#agregar la columna gravedad para diferenciarlo de las lesiones\n",
    "df_homicidios[\"GRAVEDAD\"]=\"FATAL\"\n",
    "\n",
    "df_homicidios[\"FECHA\"]=pd.to_datetime(df_homicidios[\"FECHA\"], format='%y/%m/%d', errors='coerce').dt.date"
   ]
  },
  {
   "cell_type": "code",
   "execution_count": 10,
   "metadata": {},
   "outputs": [
    {
     "data": {
      "text/plain": [
       "Index(['ID_HECHO', 'N_VICTIMAS', 'FECHA', 'HORA', 'TIPO_DE_CALLE', 'COMUNA',\n",
       "       'XY (CABA)', 'LONGITUD', 'LATITUD', 'VEHICULO_ACUSADO', 'GRAVEDAD'],\n",
       "      dtype='object')"
      ]
     },
     "execution_count": 10,
     "metadata": {},
     "output_type": "execute_result"
    }
   ],
   "source": [
    "df_homicidios.columns"
   ]
  },
  {
   "cell_type": "code",
   "execution_count": 11,
   "metadata": {},
   "outputs": [],
   "source": [
    "# Guardamos el DF listo para su análisis\n",
    "df_homicidios.to_csv('./datasets/df_homicidios.csv',index=False)"
   ]
  },
  {
   "cell_type": "markdown",
   "metadata": {},
   "source": [
    "1.2.2 Homicidios - victimas"
   ]
  },
  {
   "cell_type": "code",
   "execution_count": 12,
   "metadata": {},
   "outputs": [
    {
     "name": "stdout",
     "output_type": "stream",
     "text": [
      "<class 'pandas.core.frame.DataFrame'>\n",
      "RangeIndex: 717 entries, 0 to 716\n",
      "Data columns (total 10 columns):\n",
      " #   Column               Non-Null Count  Dtype         \n",
      "---  ------               --------------  -----         \n",
      " 0   ID_hecho             717 non-null    object        \n",
      " 1   FECHA                717 non-null    datetime64[ns]\n",
      " 2   AAAA                 717 non-null    int64         \n",
      " 3   MM                   717 non-null    int64         \n",
      " 4   DD                   717 non-null    int64         \n",
      " 5   ROL                  706 non-null    object        \n",
      " 6   VICTIMA              708 non-null    object        \n",
      " 7   SEXO                 711 non-null    object        \n",
      " 8   EDAD                 664 non-null    float64       \n",
      " 9   FECHA_FALLECIMIENTO  649 non-null    object        \n",
      "dtypes: datetime64[ns](1), float64(1), int64(3), object(5)\n",
      "memory usage: 56.1+ KB\n"
     ]
    }
   ],
   "source": [
    "df_vic_hom.info()"
   ]
  },
  {
   "cell_type": "code",
   "execution_count": 13,
   "metadata": {},
   "outputs": [],
   "source": [
    "#eliminar las columnas que no se van  a usar\n",
    "df_vic_hom.drop(columns=['AAAA', 'MM', 'DD', 'FECHA_FALLECIMIENTO'], inplace=True)\n",
    "#crea un columna con la condicion\n",
    "df_vic_hom['GRAVEDAD'] = 'FATAL'"
   ]
  },
  {
   "cell_type": "code",
   "execution_count": 14,
   "metadata": {},
   "outputs": [],
   "source": [
    "# función que regresa 1 si la edad es menor a 18, 2 si la edad esta entre 18 y 29\n",
    "# 3 si la edad esta entre 30 y 39, 4 si la edad esta entre 40 a 49 , 5 si la edad es de 50 a 59\n",
    "# y 6 si la edad es igual o mayor a 60 \n",
    "def rango_etario(edad):\n",
    "    if edad < 18:\n",
    "        return \"1_ 0 a 17 años\"\n",
    "    elif 18 <= edad <= 29:\n",
    "        return \"2_ 18 a 29 años\"\n",
    "    elif 30 <= edad <= 39:\n",
    "        return \"3_ 30 a 39 años\"\n",
    "    elif 40 <= edad <= 49:\n",
    "        return \"4_ 45 a 49 años\"\n",
    "    elif 50 <= edad <= 59:\n",
    "        return \"5_ 50 a 59 años\"\n",
    "    elif edad >= 60:\n",
    "        return \"6_ 60 años o mas\"\n",
    "    else:\n",
    "        return np.nan"
   ]
  },
  {
   "cell_type": "code",
   "execution_count": 15,
   "metadata": {},
   "outputs": [
    {
     "name": "stdout",
     "output_type": "stream",
     "text": [
      "<class 'pandas.core.frame.DataFrame'>\n",
      "RangeIndex: 717 entries, 0 to 716\n",
      "Data columns (total 8 columns):\n",
      " #   Column        Non-Null Count  Dtype         \n",
      "---  ------        --------------  -----         \n",
      " 0   ID_hecho      717 non-null    object        \n",
      " 1   FECHA         717 non-null    datetime64[ns]\n",
      " 2   ROL           706 non-null    object        \n",
      " 3   VICTIMA       708 non-null    object        \n",
      " 4   SEXO          711 non-null    object        \n",
      " 5   EDAD          664 non-null    float64       \n",
      " 6   GRAVEDAD      717 non-null    object        \n",
      " 7   RANGO_ETARIO  664 non-null    object        \n",
      "dtypes: datetime64[ns](1), float64(1), object(6)\n",
      "memory usage: 44.9+ KB\n"
     ]
    }
   ],
   "source": [
    "# cambiar los SD por nan\n",
    "df_vic_hom.loc[df_vic_hom['EDAD'] == 'SD', 'EDAD'] = np.nan\n",
    "df_vic_hom.loc[df_vic_hom['EDAD'] == 'sd', 'EDAD'] = np.nan\n",
    "#cambiar el tipo de variable\n",
    "df_vic_hom['EDAD'] = df_vic_hom['EDAD'].astype('float')\n",
    "#aplicar la funcion de rangos\n",
    "df_vic_hom['RANGO_ETARIO'] = df_vic_hom['EDAD'].apply(lambda x: rango_etario(x))\n",
    "df_vic_hom.info()"
   ]
  },
  {
   "cell_type": "code",
   "execution_count": 16,
   "metadata": {},
   "outputs": [
    {
     "data": {
      "text/plain": [
       "Index(['ID_HECHO', 'FECHA', 'ROL_VICTIMA', 'VEHICULO_VICTIMA', 'SEXO_VICTIMA',\n",
       "       'EDAD_VICTIMA', 'GRAVEDAD', 'RANGO_ETARIO'],\n",
       "      dtype='object')"
      ]
     },
     "execution_count": 16,
     "metadata": {},
     "output_type": "execute_result"
    }
   ],
   "source": [
    "# cambiar el nomre de las columnas y estandarizarlas  \n",
    "nuevos_nombres = {'ID_hecho':'ID_HECHO','ROL':'ROL_VICTIMA','VICTIMA':'VEHICULO_VICTIMA','SEXO':'SEXO_VICTIMA',\"EDAD\":\"EDAD_VICTIMA\"}\n",
    "#cambiar nombre la columna edad\n",
    "#df_hom_vic.rename(columns={\"EDAD\":\"EDAD_VICTIMA\"},inplace=True)\n",
    "# Remplazar nombres\n",
    "df_vic_hom = df_vic_hom.rename(columns=nuevos_nombres)\n",
    "df_vic_hom.columns"
   ]
  },
  {
   "cell_type": "code",
   "execution_count": 17,
   "metadata": {},
   "outputs": [],
   "source": [
    "#cambia el ROL_VICTIMA  =  PASAJERO_ACOMPAÑANTE por PASAJERO\n",
    "df_vic_hom['ROL_VICTIMA'] = df_vic_hom['ROL_VICTIMA'].replace('PASAJERO_ACOMPAÑANTE','PASAJERO')\n",
    "\n",
    "#cambia el formato de la fecha\n",
    "df_vic_hom[\"FECHA\"]=pd.to_datetime(df_vic_hom[\"FECHA\"], format='%y/%m/%d', errors='coerce').dt.date"
   ]
  },
  {
   "cell_type": "code",
   "execution_count": 18,
   "metadata": {},
   "outputs": [],
   "source": [
    "# Guardamos el DF listo para su análisis\n",
    "df_vic_hom.to_csv('./datasets/df_vic_hom.csv',index=False)"
   ]
  },
  {
   "cell_type": "markdown",
   "metadata": {},
   "source": [
    "1.2.3 Lesiones - Hechos"
   ]
  },
  {
   "cell_type": "code",
   "execution_count": 19,
   "metadata": {},
   "outputs": [
    {
     "name": "stdout",
     "output_type": "stream",
     "text": [
      "<class 'pandas.core.frame.DataFrame'>\n",
      "RangeIndex: 23785 entries, 0 to 23784\n",
      "Data columns (total 27 columns):\n",
      " #   Column                 Non-Null Count  Dtype  \n",
      "---  ------                 --------------  -----  \n",
      " 0   id                     23785 non-null  object \n",
      " 1   n_victimas             23785 non-null  int64  \n",
      " 2   aaaa                   23785 non-null  int64  \n",
      " 3   mm                     23785 non-null  int64  \n",
      " 4   dd                     23785 non-null  int64  \n",
      " 5   fecha                  23785 non-null  object \n",
      " 6   hora                   23776 non-null  object \n",
      " 7   franja_hora            23776 non-null  float64\n",
      " 8   direccion_normalizada  12917 non-null  object \n",
      " 9   comuna                 22770 non-null  object \n",
      " 10  tipo_calle             12740 non-null  object \n",
      " 11  otra_direccion         5490 non-null   object \n",
      " 12  calle                  12867 non-null  object \n",
      " 13  altura                 12771 non-null  float64\n",
      " 14  cruce                  9407 non-null   object \n",
      " 15  geocodificacion_CABA   22533 non-null  object \n",
      " 16  longitud               22314 non-null  float64\n",
      " 17  latutid                22314 non-null  float64\n",
      " 18  victima                13052 non-null  object \n",
      " 19  acusado                8497 non-null   object \n",
      " 20  participantes          23785 non-null  object \n",
      " 21  moto                   15181 non-null  object \n",
      " 22  auto                   11149 non-null  object \n",
      " 23  transporte_publico     11891 non-null  object \n",
      " 24  camion                 10984 non-null  object \n",
      " 25  ciclista               12339 non-null  object \n",
      " 26  gravedad               646 non-null    object \n",
      "dtypes: float64(4), int64(4), object(19)\n",
      "memory usage: 4.9+ MB\n"
     ]
    }
   ],
   "source": [
    "df_lesiones.info()"
   ]
  },
  {
   "cell_type": "code",
   "execution_count": 20,
   "metadata": {},
   "outputs": [],
   "source": [
    "#eliminar las columnas que no son importantes\n",
    "df_lesiones.drop(columns=['aaaa', 'mm', 'dd','hora','direccion_normalizada',\n",
    "                          'calle','altura','cruce','participantes','moto',\n",
    "                          'auto','transporte_publico','camion','otra_direccion',\n",
    "                          'ciclista','victima'], inplace=True)"
   ]
  },
  {
   "cell_type": "code",
   "execution_count": 21,
   "metadata": {},
   "outputs": [],
   "source": [
    "# Pasar las columnas a mayusculas\n",
    "df_lesiones.columns = df_lesiones.columns.str.upper()\n",
    "\n",
    "# CAMBIAR NOMBRE DE LA COLUMNA FRANJA HORARIA\n",
    "df_lesiones = df_lesiones.rename(columns={'ID':'ID_HECHO'})\n",
    "df_lesiones = df_lesiones.rename(columns={'FRANJA_HORA':'HORA'})\n",
    "df_lesiones = df_lesiones.rename(columns={'TIPO_CALLE':'TIPO_DE_CALLE'})\n",
    "df_lesiones = df_lesiones.rename(columns={'TIPO_CALLE':'TIPO_DE_CALLE'})\n",
    "df_lesiones = df_lesiones.rename(columns={'GEOCODIFICACION_CABA':'XY (CABA)'})\n",
    "df_lesiones = df_lesiones.rename(columns={'ACUSADO':'VEHICULO_ACUSADO'})\n"
   ]
  },
  {
   "cell_type": "code",
   "execution_count": 22,
   "metadata": {},
   "outputs": [],
   "source": [
    "#hacer cambios a la columna fecha\n",
    "df_lesiones['FECHA'].replace(\"'\",\"\", inplace=True)\n",
    "df_lesiones['FECHA'] = df_lesiones['FECHA'].astype('datetime64[ns]')\n",
    "\n",
    "# Remplazar \"No especificada\" por nulos\n",
    "df_lesiones.loc[df_lesiones['COMUNA'] == 'No Especificada', 'COMUNA'] = np.nan\n",
    "\n",
    "#Añadir gravedad\n",
    "df_lesiones.loc[df_lesiones['GRAVEDAD'].isnull(), 'GRAVEDAD'] = 'LEVEMENTE HERIDO'\n",
    "\n",
    "#cambia el formato de la fecha\n",
    "df_lesiones[\"FECHA\"]=pd.to_datetime(df_lesiones[\"FECHA\"], format='%y/%m/%d', errors='coerce').dt.date"
   ]
  },
  {
   "cell_type": "code",
   "execution_count": 23,
   "metadata": {},
   "outputs": [
    {
     "data": {
      "text/plain": [
       "Index(['ID_HECHO', 'N_VICTIMAS', 'FECHA', 'HORA', 'COMUNA', 'TIPO_DE_CALLE',\n",
       "       'XY (CABA)', 'LONGITUD', 'LATUTID', 'VEHICULO_ACUSADO', 'GRAVEDAD'],\n",
       "      dtype='object')"
      ]
     },
     "execution_count": 23,
     "metadata": {},
     "output_type": "execute_result"
    }
   ],
   "source": [
    "df_lesiones.columns"
   ]
  },
  {
   "cell_type": "code",
   "execution_count": 24,
   "metadata": {},
   "outputs": [],
   "source": [
    "# Guardamos el DF listo para su análisis\n",
    "df_lesiones.to_csv('./datasets/df_lesiones.csv',index=False)"
   ]
  },
  {
   "cell_type": "markdown",
   "metadata": {},
   "source": [
    "1.2.4 Lesiones - Victimas"
   ]
  },
  {
   "cell_type": "code",
   "execution_count": 25,
   "metadata": {},
   "outputs": [
    {
     "data": {
      "text/plain": [
       "Index(['ID_HECHO', 'AAA', 'MM', 'DD', 'FECHA', 'VEHICULO_VICTIMA',\n",
       "       'SEXO_VICTIMA', 'EDAD_VICTIMA', 'GRAVEDAD'],\n",
       "      dtype='object')"
      ]
     },
     "execution_count": 25,
     "metadata": {},
     "output_type": "execute_result"
    }
   ],
   "source": [
    "# Pasar las columnas a mayusculas\n",
    "df_vic_les.columns = df_vic_les.columns.str.upper()\n",
    "\n",
    "# Cambiar nombres a las columnas para coincidir con el df_homicidios\n",
    "df_vic_les = df_vic_les.rename(columns={'ID HECHO':'ID_HECHO','FECHA ':'FECHA','SEXO':'SEXO_VICTIMA'})\n",
    "\n",
    "#cambia el formato de la fecha\n",
    "df_vic_les[\"FECHA\"]=pd.to_datetime(df_vic_les[\"FECHA\"], format='%y/%m/%d', errors='coerce').dt.date\n",
    "\n",
    "df_vic_les.columns"
   ]
  },
  {
   "cell_type": "code",
   "execution_count": 26,
   "metadata": {},
   "outputs": [
    {
     "data": {
      "text/plain": [
       "Index(['ID_HECHO', 'FECHA', 'VEHICULO_VICTIMA', 'SEXO_VICTIMA', 'EDAD_VICTIMA',\n",
       "       'GRAVEDAD'],\n",
       "      dtype='object')"
      ]
     },
     "execution_count": 26,
     "metadata": {},
     "output_type": "execute_result"
    }
   ],
   "source": [
    "#eliminar las columnas que no se van a usar\n",
    "df_vic_les.drop(columns=['AAA', 'MM', 'DD'], inplace=True)\n",
    "\n",
    "# Columnas\n",
    "df_vic_les.columns"
   ]
  },
  {
   "cell_type": "code",
   "execution_count": 27,
   "metadata": {},
   "outputs": [],
   "source": [
    "# Creamos la columna ROL_VICTIMA con nulls\n",
    "df_vic_les['ROL_VICTIMA'] = np.nan\n",
    "\n",
    "# remplazar los nulos de la columna GRAVEDAD por \"LEVEMENTE HERIDO\"\n",
    "df_vic_les.loc[df_vic_les['GRAVEDAD'].isnull(), 'GRAVEDAD'] = 'LEVEMENTE HERIDO'\n"
   ]
  },
  {
   "cell_type": "code",
   "execution_count": 28,
   "metadata": {},
   "outputs": [],
   "source": [
    "# Rango Etario\n",
    "df_vic_les['EDAD_VICTIMA'] = df_vic_les['EDAD_VICTIMA'].astype('float')\n",
    "df_vic_les['RANGO_ETARIO'] = df_vic_les['EDAD_VICTIMA'].apply(lambda x: rango_etario(x))"
   ]
  },
  {
   "cell_type": "code",
   "execution_count": 29,
   "metadata": {},
   "outputs": [],
   "source": [
    "# homogenizar en FEMENINO y MASCULINO\n",
    "df_vic_les.loc[df_vic_les['SEXO_VICTIMA'] == 'MUJER', 'SEXO_VICTIMA'] = 'FEMENINO'\n",
    "df_vic_les.loc[df_vic_les['SEXO_VICTIMA'] == 'Mujer', 'SEXO_VICTIMA'] = 'FEMENINO'\n",
    "df_vic_les.loc[df_vic_les['SEXO_VICTIMA'] == 'mujer ', 'SEXO_VICTIMA'] = 'FEMENINO'\n",
    "df_vic_les.loc[df_vic_les['SEXO_VICTIMA'] == 'mujer', 'SEXO_VICTIMA'] = 'FEMENINO'\n",
    "df_vic_les.loc[df_vic_les['SEXO_VICTIMA'] == 'Mujer ', 'SEXO_VICTIMA'] = 'FEMENINO'\n",
    "df_vic_les.loc[df_vic_les['SEXO_VICTIMA'] == 'Varon', 'SEXO_VICTIMA'] = 'MASCULINO'\n",
    "df_vic_les.loc[df_vic_les['SEXO_VICTIMA'] == 'varon', 'SEXO_VICTIMA'] = 'MASCULINO'"
   ]
  },
  {
   "cell_type": "code",
   "execution_count": 30,
   "metadata": {},
   "outputs": [
    {
     "data": {
      "text/plain": [
       "array(['MASCULINO', nan, 'FEMENINO'], dtype=object)"
      ]
     },
     "execution_count": 30,
     "metadata": {},
     "output_type": "execute_result"
    }
   ],
   "source": [
    "# inprime valores unicos de la columna SEXO_VICTIMA\n",
    "df_vic_les['SEXO_VICTIMA'].unique()"
   ]
  },
  {
   "cell_type": "code",
   "execution_count": 31,
   "metadata": {},
   "outputs": [],
   "source": [
    "# Guardamos el DF listo para su análisis\n",
    "df_vic_les.to_csv('./datasets/df_vic_les.csv',index=False)"
   ]
  },
  {
   "cell_type": "code",
   "execution_count": 32,
   "metadata": {},
   "outputs": [
    {
     "data": {
      "text/html": [
       "<div>\n",
       "<style scoped>\n",
       "    .dataframe tbody tr th:only-of-type {\n",
       "        vertical-align: middle;\n",
       "    }\n",
       "\n",
       "    .dataframe tbody tr th {\n",
       "        vertical-align: top;\n",
       "    }\n",
       "\n",
       "    .dataframe thead th {\n",
       "        text-align: right;\n",
       "    }\n",
       "</style>\n",
       "<table border=\"1\" class=\"dataframe\">\n",
       "  <thead>\n",
       "    <tr style=\"text-align: right;\">\n",
       "      <th></th>\n",
       "      <th>ID_HECHO</th>\n",
       "      <th>N_VICTIMAS</th>\n",
       "      <th>FECHA</th>\n",
       "      <th>HORA</th>\n",
       "      <th>TIPO_DE_CALLE</th>\n",
       "      <th>COMUNA</th>\n",
       "      <th>XY (CABA)</th>\n",
       "      <th>LONGITUD</th>\n",
       "      <th>LATITUD</th>\n",
       "      <th>VEHICULO_ACUSADO</th>\n",
       "      <th>GRAVEDAD</th>\n",
       "    </tr>\n",
       "  </thead>\n",
       "  <tbody>\n",
       "    <tr>\n",
       "      <th>691</th>\n",
       "      <td>2021-0093</td>\n",
       "      <td>1</td>\n",
       "      <td>2021-12-13</td>\n",
       "      <td>17.0</td>\n",
       "      <td>AVENIDA</td>\n",
       "      <td>7.0</td>\n",
       "      <td>Point (102728.60090138 98186.24929177)</td>\n",
       "      <td>-58.433538</td>\n",
       "      <td>-34.645616</td>\n",
       "      <td>AUTO</td>\n",
       "      <td>FATAL</td>\n",
       "    </tr>\n",
       "    <tr>\n",
       "      <th>692</th>\n",
       "      <td>2021-0094</td>\n",
       "      <td>1</td>\n",
       "      <td>2021-12-20</td>\n",
       "      <td>1.0</td>\n",
       "      <td>AUTOPISTA</td>\n",
       "      <td>9.0</td>\n",
       "      <td>Point (99624.29795829 97569.69801131)</td>\n",
       "      <td>-58.467398</td>\n",
       "      <td>-34.651178</td>\n",
       "      <td>AUTO</td>\n",
       "      <td>FATAL</td>\n",
       "    </tr>\n",
       "    <tr>\n",
       "      <th>693</th>\n",
       "      <td>2021-0095</td>\n",
       "      <td>1</td>\n",
       "      <td>2021-12-30</td>\n",
       "      <td>0.0</td>\n",
       "      <td>AVENIDA</td>\n",
       "      <td>11.0</td>\n",
       "      <td>Point (99116.45492358 101045.23284826)</td>\n",
       "      <td>-58.472934</td>\n",
       "      <td>-34.619847</td>\n",
       "      <td>CARGAS</td>\n",
       "      <td>FATAL</td>\n",
       "    </tr>\n",
       "    <tr>\n",
       "      <th>694</th>\n",
       "      <td>2021-0096</td>\n",
       "      <td>1</td>\n",
       "      <td>2021-12-15</td>\n",
       "      <td>10.0</td>\n",
       "      <td>AVENIDA</td>\n",
       "      <td>9.0</td>\n",
       "      <td>Point (99324.54463985 97676.26932409)</td>\n",
       "      <td>-58.470668</td>\n",
       "      <td>-34.650217</td>\n",
       "      <td>CARGAS</td>\n",
       "      <td>FATAL</td>\n",
       "    </tr>\n",
       "    <tr>\n",
       "      <th>695</th>\n",
       "      <td>2021-0097</td>\n",
       "      <td>1</td>\n",
       "      <td>2021-11-18</td>\n",
       "      <td>6.0</td>\n",
       "      <td>CALLE</td>\n",
       "      <td>1.0</td>\n",
       "      <td>Point (107664.16647795 104708.63962087)</td>\n",
       "      <td>-58.379762</td>\n",
       "      <td>-34.586796</td>\n",
       "      <td>AUTO</td>\n",
       "      <td>FATAL</td>\n",
       "    </tr>\n",
       "  </tbody>\n",
       "</table>\n",
       "</div>"
      ],
      "text/plain": [
       "      ID_HECHO  N_VICTIMAS       FECHA  HORA TIPO_DE_CALLE COMUNA  \\\n",
       "691  2021-0093           1  2021-12-13  17.0       AVENIDA    7.0   \n",
       "692  2021-0094           1  2021-12-20   1.0     AUTOPISTA    9.0   \n",
       "693  2021-0095           1  2021-12-30   0.0       AVENIDA   11.0   \n",
       "694  2021-0096           1  2021-12-15  10.0       AVENIDA    9.0   \n",
       "695  2021-0097           1  2021-11-18   6.0         CALLE    1.0   \n",
       "\n",
       "                                   XY (CABA)   LONGITUD    LATITUD  \\\n",
       "691   Point (102728.60090138 98186.24929177) -58.433538 -34.645616   \n",
       "692    Point (99624.29795829 97569.69801131) -58.467398 -34.651178   \n",
       "693   Point (99116.45492358 101045.23284826) -58.472934 -34.619847   \n",
       "694    Point (99324.54463985 97676.26932409) -58.470668 -34.650217   \n",
       "695  Point (107664.16647795 104708.63962087) -58.379762 -34.586796   \n",
       "\n",
       "    VEHICULO_ACUSADO GRAVEDAD  \n",
       "691             AUTO    FATAL  \n",
       "692             AUTO    FATAL  \n",
       "693           CARGAS    FATAL  \n",
       "694           CARGAS    FATAL  \n",
       "695             AUTO    FATAL  "
      ]
     },
     "execution_count": 32,
     "metadata": {},
     "output_type": "execute_result"
    }
   ],
   "source": [
    "df_homicidios.tail(5)\n"
   ]
  },
  {
   "cell_type": "code",
   "execution_count": 33,
   "metadata": {},
   "outputs": [
    {
     "data": {
      "text/html": [
       "<div>\n",
       "<style scoped>\n",
       "    .dataframe tbody tr th:only-of-type {\n",
       "        vertical-align: middle;\n",
       "    }\n",
       "\n",
       "    .dataframe tbody tr th {\n",
       "        vertical-align: top;\n",
       "    }\n",
       "\n",
       "    .dataframe thead th {\n",
       "        text-align: right;\n",
       "    }\n",
       "</style>\n",
       "<table border=\"1\" class=\"dataframe\">\n",
       "  <thead>\n",
       "    <tr style=\"text-align: right;\">\n",
       "      <th></th>\n",
       "      <th>ID_HECHO</th>\n",
       "      <th>N_VICTIMAS</th>\n",
       "      <th>FECHA</th>\n",
       "      <th>HORA</th>\n",
       "      <th>COMUNA</th>\n",
       "      <th>TIPO_DE_CALLE</th>\n",
       "      <th>XY (CABA)</th>\n",
       "      <th>LONGITUD</th>\n",
       "      <th>LATUTID</th>\n",
       "      <th>VEHICULO_ACUSADO</th>\n",
       "      <th>GRAVEDAD</th>\n",
       "    </tr>\n",
       "  </thead>\n",
       "  <tbody>\n",
       "    <tr>\n",
       "      <th>23780</th>\n",
       "      <td>LC-2021-0652849</td>\n",
       "      <td>1</td>\n",
       "      <td>2021-12-31</td>\n",
       "      <td>19.0</td>\n",
       "      <td>9</td>\n",
       "      <td>AVENIDA</td>\n",
       "      <td>Point (95400.5441905024 96621.6007711877)</td>\n",
       "      <td>-5.851348e+01</td>\n",
       "      <td>-3.465971e+01</td>\n",
       "      <td>NaN</td>\n",
       "      <td>LEVEMENTE HERIDO</td>\n",
       "    </tr>\n",
       "    <tr>\n",
       "      <th>23781</th>\n",
       "      <td>LC-2021-0652865</td>\n",
       "      <td>2</td>\n",
       "      <td>2021-12-31</td>\n",
       "      <td>19.0</td>\n",
       "      <td>9</td>\n",
       "      <td>AVENIDA</td>\n",
       "      <td>Point (97705.4491469278 98614.8825470092)</td>\n",
       "      <td>-5.848833e+01</td>\n",
       "      <td>-3.464175e+01</td>\n",
       "      <td>NaN</td>\n",
       "      <td>LEVEMENTE HERIDO</td>\n",
       "    </tr>\n",
       "    <tr>\n",
       "      <th>23782</th>\n",
       "      <td>LC-2021-0652907</td>\n",
       "      <td>1</td>\n",
       "      <td>2021-12-31</td>\n",
       "      <td>20.0</td>\n",
       "      <td>1</td>\n",
       "      <td>NaN</td>\n",
       "      <td>Point (107377.10694920316745993 105120.7873965...</td>\n",
       "      <td>-5.838289e+01</td>\n",
       "      <td>-3.458308e+01</td>\n",
       "      <td>NaN</td>\n",
       "      <td>LEVEMENTE HERIDO</td>\n",
       "    </tr>\n",
       "    <tr>\n",
       "      <th>23783</th>\n",
       "      <td>LC-2021-0652921</td>\n",
       "      <td>1</td>\n",
       "      <td>2021-12-31</td>\n",
       "      <td>22.0</td>\n",
       "      <td>5</td>\n",
       "      <td>CALLE</td>\n",
       "      <td>Point (104472.702045632 101660.930364258)</td>\n",
       "      <td>-5.841453e+01</td>\n",
       "      <td>-3.461429e+01</td>\n",
       "      <td>TRANSPORTE PUBLICO</td>\n",
       "      <td>GRAVE</td>\n",
       "    </tr>\n",
       "    <tr>\n",
       "      <th>23784</th>\n",
       "      <td>LC-2020-0244615</td>\n",
       "      <td>1</td>\n",
       "      <td>2020-05-17</td>\n",
       "      <td>21.0</td>\n",
       "      <td>NaN</td>\n",
       "      <td>NaN</td>\n",
       "      <td>Point (114990.04979284359433223 88934.67755418...</td>\n",
       "      <td>-5.829963e+09</td>\n",
       "      <td>-3.472891e+09</td>\n",
       "      <td>AUTO</td>\n",
       "      <td>LEVEMENTE HERIDO</td>\n",
       "    </tr>\n",
       "  </tbody>\n",
       "</table>\n",
       "</div>"
      ],
      "text/plain": [
       "              ID_HECHO  N_VICTIMAS       FECHA  HORA COMUNA TIPO_DE_CALLE  \\\n",
       "23780  LC-2021-0652849           1  2021-12-31  19.0      9       AVENIDA   \n",
       "23781  LC-2021-0652865           2  2021-12-31  19.0      9       AVENIDA   \n",
       "23782  LC-2021-0652907           1  2021-12-31  20.0      1           NaN   \n",
       "23783  LC-2021-0652921           1  2021-12-31  22.0      5         CALLE   \n",
       "23784  LC-2020-0244615           1  2020-05-17  21.0    NaN           NaN   \n",
       "\n",
       "                                               XY (CABA)      LONGITUD  \\\n",
       "23780          Point (95400.5441905024 96621.6007711877) -5.851348e+01   \n",
       "23781          Point (97705.4491469278 98614.8825470092) -5.848833e+01   \n",
       "23782  Point (107377.10694920316745993 105120.7873965... -5.838289e+01   \n",
       "23783          Point (104472.702045632 101660.930364258) -5.841453e+01   \n",
       "23784  Point (114990.04979284359433223 88934.67755418... -5.829963e+09   \n",
       "\n",
       "            LATUTID    VEHICULO_ACUSADO          GRAVEDAD  \n",
       "23780 -3.465971e+01                 NaN  LEVEMENTE HERIDO  \n",
       "23781 -3.464175e+01                 NaN  LEVEMENTE HERIDO  \n",
       "23782 -3.458308e+01                 NaN  LEVEMENTE HERIDO  \n",
       "23783 -3.461429e+01  TRANSPORTE PUBLICO             GRAVE  \n",
       "23784 -3.472891e+09                AUTO  LEVEMENTE HERIDO  "
      ]
     },
     "execution_count": 33,
     "metadata": {},
     "output_type": "execute_result"
    }
   ],
   "source": [
    "df_lesiones.tail(5)"
   ]
  },
  {
   "cell_type": "code",
   "execution_count": 117,
   "metadata": {},
   "outputs": [
    {
     "data": {
      "text/plain": [
       "0       NaN\n",
       "1       NaN\n",
       "2       NaN\n",
       "3       NaN\n",
       "4       NaN\n",
       "         ..\n",
       "27600   NaN\n",
       "27601   NaN\n",
       "27602   NaN\n",
       "27603   NaN\n",
       "27604   NaN\n",
       "Name: ROL_VICTIMA, Length: 27605, dtype: float64"
      ]
     },
     "execution_count": 117,
     "metadata": {},
     "output_type": "execute_result"
    }
   ],
   "source": [
    "df_vic_les[\"ROL_VICTIMA\"]"
   ]
  }
 ],
 "metadata": {
  "kernelspec": {
   "display_name": "Python 3",
   "language": "python",
   "name": "python3"
  },
  "language_info": {
   "codemirror_mode": {
    "name": "ipython",
    "version": 3
   },
   "file_extension": ".py",
   "mimetype": "text/x-python",
   "name": "python",
   "nbconvert_exporter": "python",
   "pygments_lexer": "ipython3",
   "version": "3.10.6"
  },
  "orig_nbformat": 4
 },
 "nbformat": 4,
 "nbformat_minor": 2
}
